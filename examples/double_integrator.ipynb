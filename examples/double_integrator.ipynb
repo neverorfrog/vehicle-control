{
 "cells": [
  {
   "cell_type": "markdown",
   "metadata": {},
   "source": [
    "# Optimal Control on a Double Integrator\n",
    "\n",
    "## Idea\n",
    "\n",
    "- Formulate the goal of control as the long-term optimization of a scalar cost function\n",
    "- What is the role of constraints?\n",
    "- Can rely on numerical methods\n",
    "\n",
    "## Example\n",
    "\n",
    "- We could want to minimize a certain cost function imposing some constraints which define our trajectory\n",
    "- Cost Function\n",
    "- Constraints\n",
    "    - Double integrator is being regulated to the origin\n",
    "    - Bound on the input is necessary, otherwise the optimal control problem would give infinite input"
   ]
  },
  {
   "cell_type": "code",
   "execution_count": 1,
   "metadata": {},
   "outputs": [],
   "source": [
    "import casadi as ca\n",
    "import sys\n",
    "sys.path.append(\"..\")\n",
    "from modeling.robot import Robot\n",
    "\n",
    "class DoubleIntegrator(Robot):\n",
    "    def __init__(self):\n",
    "        # Define the symbolic variables\n",
    "        q1 = ca.SX.sym('x1')  # Position\n",
    "        q2 = ca.SX.sym('x2')  # Velocity\n",
    "        u = ca.SX.sym('u') # input (force)\n",
    "        \n",
    "        # System dynamics\n",
    "        qd1 = q2\n",
    "        qd2 = u\n",
    "        \n",
    "        # Concatenate state and control variables\n",
    "        q = ca.vertcat(q1, q2)\n",
    "        qd = ca.vertcat(qd1, qd2)\n",
    "        \n",
    "        super().__init__(q,u,qd)\n",
    "\n",
    "model = DoubleIntegrator()    \n",
    "dt = 0.1    \n",
    "N = 10\n",
    "discrete_ode = ca.Function('discrete_ode', [model.q,model.u], [model.RK4(dt)])\n",
    "\n",
    "q_k = [0,0]\n",
    "u_k = [1]\n",
    "q_traj = []\n",
    "for k in range(N):\n",
    "    q_k = discrete_ode(q_k,u_k).full().squeeze()\n",
    "    q_traj.append(q_k)"
   ]
  }
 ],
 "metadata": {
  "kernelspec": {
   "display_name": "mpc",
   "language": "python",
   "name": "python3"
  },
  "language_info": {
   "codemirror_mode": {
    "name": "ipython",
    "version": 3
   },
   "file_extension": ".py",
   "mimetype": "text/x-python",
   "name": "python",
   "nbconvert_exporter": "python",
   "pygments_lexer": "ipython3",
   "version": "3.12.0"
  }
 },
 "nbformat": 4,
 "nbformat_minor": 2
}
